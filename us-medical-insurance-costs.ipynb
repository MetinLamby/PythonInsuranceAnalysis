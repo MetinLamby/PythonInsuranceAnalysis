{
 "cells": [
  {
   "cell_type": "markdown",
   "metadata": {},
   "source": [
    "# U.S. Medical Insurance Costs"
   ]
  },
  {
   "cell_type": "markdown",
   "metadata": {},
   "source": [
    "## Find out the average age of the patients in the dataset."
   ]
  },
  {
   "cell_type": "code",
   "execution_count": 2,
   "metadata": {},
   "outputs": [],
   "source": [
    "import csv"
   ]
  },
  {
   "cell_type": "code",
   "execution_count": 6,
   "metadata": {},
   "outputs": [],
   "source": [
    "def averageAge():\n",
    "    lineCounter = 0\n",
    "    sumAgeCounter = 0\n",
    "    with open('insurance.csv') as insurance_csv_file:\n",
    "      insurance_dict = csv.DictReader(insurance_csv_file)\n",
    "      for row in insurance_dict:\n",
    "        lineCounter += 1\n",
    "        sumAgeCounter += int(row['age'])\n",
    "    averageAge = sumAgeCounter/lineCounter\n",
    "    return averageAge"
   ]
  },
  {
   "cell_type": "code",
   "execution_count": 7,
   "metadata": {
    "scrolled": true
   },
   "outputs": [
    {
     "name": "stdout",
     "output_type": "stream",
     "text": [
      "39.20702541106129\n"
     ]
    }
   ],
   "source": [
    "print(averageAge())"
   ]
  },
  {
   "cell_type": "markdown",
   "metadata": {},
   "source": [
    "## Analyze where a majority of the individuals are from."
   ]
  },
  {
   "cell_type": "code",
   "execution_count": 8,
   "metadata": {},
   "outputs": [],
   "source": [
    "def majorityOrigin():\n",
    "    listOfOrigins = []\n",
    "    with open('insurance.csv') as insurance_csv_file:\n",
    "      insurance_dict = csv.DictReader(insurance_csv_file)\n",
    "      for row in insurance_dict:\n",
    "        listOfOrigins.append(row['region'])\n",
    "    uniqueOrigins = set(listOfOrigins)\n",
    "    greatestPopulation = 0\n",
    "    for origin in uniqueOrigins:\n",
    "        if listOfOrigins.count(origin) > greatestPopulation:\n",
    "            greatestPopulation = listOfOrigins.count(origin)\n",
    "            greatestPopulationRegion = origin\n",
    "    return greatestPopulationRegion, greatestPopulation"
   ]
  },
  {
   "cell_type": "code",
   "execution_count": 9,
   "metadata": {
    "scrolled": true
   },
   "outputs": [
    {
     "name": "stdout",
     "output_type": "stream",
     "text": [
      "southeast\n",
      "364\n"
     ]
    }
   ],
   "source": [
    "greatestPopulationRegion, greatestPopulation = majorityOrigin()\n",
    "print(greatestPopulationRegion)\n",
    "print(greatestPopulation)"
   ]
  },
  {
   "cell_type": "markdown",
   "metadata": {},
   "source": [
    "## Avergage costs between smokers vs. non-smokers."
   ]
  },
  {
   "cell_type": "code",
   "execution_count": 6,
   "metadata": {},
   "outputs": [
    {
     "name": "stdout",
     "output_type": "stream",
     "text": [
      "32050.23183153285\n",
      "8434.268297856199\n"
     ]
    }
   ],
   "source": [
    "def getAllSmokers():\n",
    "    listOfSmokers = []\n",
    "    listOfNonSmokers = []\n",
    "    with open('insurance.csv') as insurance_csv_file:\n",
    "      insurance_dict = csv.DictReader(insurance_csv_file)\n",
    "      for row in insurance_dict:\n",
    "        if row['smoker'] == \"yes\":\n",
    "            listOfSmokers.append(row)\n",
    "        elif row['smoker'] == \"no\":\n",
    "            listOfNonSmokers.append(row)\n",
    "    return listOfSmokers, listOfNonSmokers\n",
    "\n",
    "smokers, nonSmokers = getAllSmokers()\n",
    "\n",
    "def getAverageCostOfSmokerVsNonsmoker(smokersList, nonSmokersList):\n",
    "    smokerListSize = len(smokersList)\n",
    "    nonSmokerListSize = len(nonSmokersList)\n",
    "    smokerTotalCost = 0\n",
    "    nonSmokerTotalCost = 0\n",
    "    for smoker in smokersList:\n",
    "        smokerTotalCost += float(smoker['charges'])\n",
    "    for nonSmoker in nonSmokersList:\n",
    "        nonSmokerTotalCost += float(nonSmoker['charges'])\n",
    "    averageSmokerCost =  smokerTotalCost/smokerListSize\n",
    "    averageNonSmokerCost =  nonSmokerTotalCost/nonSmokerListSize\n",
    "    return averageSmokerCost, averageNonSmokerCost\n",
    "\n",
    "averageSmokerCost, averageNonSmokerCost = getAverageCostOfSmokerVsNonsmoker(smokers, nonSmokers)\n",
    "print(averageSmokerCost)\n",
    "print(averageNonSmokerCost)"
   ]
  },
  {
   "cell_type": "markdown",
   "metadata": {},
   "source": [
    "## Average age for someone who has at least one child in this dataset."
   ]
  },
  {
   "cell_type": "code",
   "execution_count": 9,
   "metadata": {},
   "outputs": [
    {
     "name": "stdout",
     "output_type": "stream",
     "text": [
      "39.78010471204188\n"
     ]
    }
   ],
   "source": [
    "def getAverageAgeOfParent():\n",
    "    parentsCounter = 0\n",
    "    totalAge = 0\n",
    "    with open('insurance.csv') as insurance_csv_file:\n",
    "      insurance_dict = csv.DictReader(insurance_csv_file)\n",
    "      for row in insurance_dict:\n",
    "        if int(row['children']) >= 1:\n",
    "            parentsCounter += 1\n",
    "            totalAge += int(row['age'])\n",
    "    averageAgeOfParent = totalAge/parentsCounter\n",
    "    return averageAgeOfParent\n",
    "\n",
    "print(getAverageAgeOfParent())"
   ]
  },
  {
   "cell_type": "code",
   "execution_count": null,
   "metadata": {},
   "outputs": [],
   "source": []
  }
 ],
 "metadata": {
  "kernelspec": {
   "display_name": "Python 3",
   "language": "python",
   "name": "python3"
  },
  "language_info": {
   "codemirror_mode": {
    "name": "ipython",
    "version": 3
   },
   "file_extension": ".py",
   "mimetype": "text/x-python",
   "name": "python",
   "nbconvert_exporter": "python",
   "pygments_lexer": "ipython3",
   "version": "3.9.1"
  }
 },
 "nbformat": 4,
 "nbformat_minor": 4
}
