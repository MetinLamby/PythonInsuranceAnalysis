{
 "cells": [
  {
   "cell_type": "markdown",
   "metadata": {},
   "source": [
    "# U.S. Medical Insurance Costs"
   ]
  },
  {
   "cell_type": "markdown",
   "metadata": {},
   "source": [
    "## Find out the average age of the patients in the dataset."
   ]
  },
  {
   "cell_type": "code",
   "execution_count": 1,
   "metadata": {},
   "outputs": [],
   "source": [
    "import csv"
   ]
  },
  {
   "cell_type": "code",
   "execution_count": 6,
   "metadata": {},
   "outputs": [],
   "source": [
    "def averageAge():\n",
    "    lineCounter = 0\n",
    "    sumAgeCounter = 0\n",
    "    with open('insurance.csv') as insurance_csv_file:\n",
    "      insurance_dict = csv.DictReader(insurance_csv_file)\n",
    "      for row in insurance_dict:\n",
    "        lineCounter += 1\n",
    "        sumAgeCounter += int(row['age'])\n",
    "    averageAge = sumAgeCounter/lineCounter\n",
    "    return averageAge"
   ]
  },
  {
   "cell_type": "code",
   "execution_count": 7,
   "metadata": {},
   "outputs": [
    {
     "name": "stdout",
     "output_type": "stream",
     "text": [
      "39.20702541106129\n"
     ]
    }
   ],
   "source": [
    "print(averageAge())"
   ]
  },
  {
   "cell_type": "markdown",
   "metadata": {},
   "source": [
    "## Analyze where a majority of the individuals are from."
   ]
  },
  {
   "cell_type": "code",
   "execution_count": 8,
   "metadata": {},
   "outputs": [],
   "source": [
    "def majorityOrigin():\n",
    "    listOfOrigins = []\n",
    "    with open('insurance.csv') as insurance_csv_file:\n",
    "      insurance_dict = csv.DictReader(insurance_csv_file)\n",
    "      for row in insurance_dict:\n",
    "        listOfOrigins.append(row['region'])\n",
    "    uniqueOrigins = set(listOfOrigins)\n",
    "    greatestPopulation = 0\n",
    "    for origin in uniqueOrigins:\n",
    "        if listOfOrigins.count(origin) > greatestPopulation:\n",
    "            greatestPopulation = listOfOrigins.count(origin)\n",
    "            greatestPopulationRegion = origin\n",
    "    return greatestPopulationRegion, greatestPopulation"
   ]
  },
  {
   "cell_type": "code",
   "execution_count": 9,
   "metadata": {},
   "outputs": [
    {
     "name": "stdout",
     "output_type": "stream",
     "text": [
      "southeast\n",
      "364\n"
     ]
    }
   ],
   "source": [
    "greatestPopulationRegion, greatestPopulation = majorityOrigin()\n",
    "print(greatestPopulationRegion)\n",
    "print(greatestPopulation)"
   ]
  },
  {
   "cell_type": "markdown",
   "metadata": {},
   "source": [
    "## Look at the different costs between smokers vs. non-smokers."
   ]
  },
  {
   "cell_type": "markdown",
   "metadata": {},
   "source": [
    "## Figure out what the average age is for someone who has at least one child in this dataset."
   ]
  }
 ],
 "metadata": {
  "kernelspec": {
   "display_name": "Python 3",
   "language": "python",
   "name": "python3"
  },
  "language_info": {
   "codemirror_mode": {
    "name": "ipython",
    "version": 3
   },
   "file_extension": ".py",
   "mimetype": "text/x-python",
   "name": "python",
   "nbconvert_exporter": "python",
   "pygments_lexer": "ipython3",
   "version": "3.9.1"
  }
 },
 "nbformat": 4,
 "nbformat_minor": 4
}
